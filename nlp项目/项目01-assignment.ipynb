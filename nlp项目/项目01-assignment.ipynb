{
 "cells": [
  {
   "cell_type": "markdown",
   "metadata": {},
   "source": [
    "# Homework 1: Preprocessing and Text Classification"
   ]
  },
  {
   "cell_type": "markdown",
   "metadata": {},
   "source": [
    "Student Name:Shengyi Zhao\n",
    "\n",
    "Student ID:990160"
   ]
  },
  {
   "cell_type": "markdown",
   "metadata": {},
   "source": [
    "# General Info\n",
    "\n",
    "<b>Due date</b>: Sunday, 5 Apr 2020 5pm\n",
    "\n",
    "<b>Submission method</b>: Canvas submission\n",
    "\n",
    "<b>Submission materials</b>: completed copy of this iPython notebook\n",
    "\n",
    "<b>Late submissions</b>: -20% per day (both week and weekend days counted)\n",
    "\n",
    "<b>Marks</b>: 10% of mark for class (with 9% on correctness + 1% on quality and efficiency of your code)\n",
    "\n",
    "<b>Materials</b>: See [Using Jupyter Notebook and Python page](https://canvas.lms.unimelb.edu.au/courses/17601/pages/using-jupyter-notebook-and-python?module_item_id=1678430) on Canvas (under Modules>Resources) for information on the basic setup required for this class, including an iPython notebook viewer and the python packages NLTK, Numpy, Scipy, Matplotlib, Scikit-Learn, and Gensim. In particular, if you are not using a lab computer which already has it installed, we recommend installing all the data for NLTK, since you will need various parts of it to complete this assignment. You can also use any Python built-in packages, but do not use any other 3rd party packages (the packages listed above are all fine to use); if your iPython notebook doesn't run on the marker's machine, you will lose marks. <b> You should use Python 3</b>.  \n",
    "\n",
    "To familiarize yourself with NLTK, here is a free online book:  Steven Bird, Ewan Klein, and Edward Loper (2009). <a href=http://nltk.org/book>Natural Language Processing with Python</a>. O'Reilly Media Inc. You may also consult the <a href=https://www.nltk.org/api/nltk.html>NLTK API</a>.\n",
    "\n",
    "<b>Evaluation</b>: Your iPython notebook should run end-to-end without any errors in a reasonable amount of time, and you must follow all instructions provided below, including specific implementation requirements and instructions for what needs to be printed (please avoid printing output we don't ask for). You should edit the sections below where requested, but leave the rest of the code as is. You should leave the output from running your code in the iPython notebook you submit, to assist with marking. The amount each section is worth is given in parenthesis after the instructions. \n",
    "\n",
    "You will be marked not only on the correctness of your methods, but also the quality and efficency of your code: in particular, you should be careful to use Python built-in functions and operators when appropriate and pick descriptive variable names that adhere to <a href=\"https://www.python.org/dev/peps/pep-0008/\">Python style requirements</a>. If you think it might be unclear what you are doing, you should comment your code to help the marker make sense of it.\n",
    "\n",
    "<b>Updates</b>: Any major changes to the assignment will be announced via Canvas. Minor changes and clarifications will be announced on the discussion board; we recommend you check it regularly.\n",
    "\n",
    "<b>Academic misconduct</b>: For most people, collaboration will form a natural part of the undertaking of this homework, and we encourge you to discuss it in general terms with other students. However, this ultimately is still an individual task, and so reuse of code or other instances of clear influence will be considered cheating. We will be checking submissions for originality and will invoke the University’s <a href=\"http://academichonesty.unimelb.edu.au/policy.html\">Academic Misconduct policy</a> where inappropriate levels of collusion or plagiarism are deemed to have taken place."
   ]
  },
  {
   "cell_type": "markdown",
   "metadata": {},
   "source": [
    "# Overview\n",
    "\n",
    "In this homework, you'll be working with a collection tweets. The task is to classify whether a tweet constitutes a rumour event. This homework involves writing code to preprocess data and perform text classification."
   ]
  },
  {
   "cell_type": "markdown",
   "metadata": {},
   "source": [
    "# 1. Preprocessing (5 marks)"
   ]
  },
  {
   "cell_type": "markdown",
   "metadata": {},
   "source": [
    "**Instructions**: Run the code below to download the tweet corpus for the assignment. Note: the download may take some time. **No implementation is needed.**"
   ]
  },
  {
   "cell_type": "code",
   "execution_count": 1,
   "metadata": {},
   "outputs": [
    {
     "name": "stdout",
     "output_type": "stream",
     "text": [
      "Done. File downloaded: rumour-data.tgz\n"
     ]
    }
   ],
   "source": [
    "import requests\n",
    "import os\n",
    "from pathlib import Path\n",
    "\n",
    "fname = 'rumour-data.tgz'\n",
    "data_dir = os.path.splitext(fname)[0] #'rumour-data'\n",
    "\n",
    "my_file = Path(fname)\n",
    "if not my_file.is_file():\n",
    "    url = \"https://github.com/jhlau/jhlau.github.io/blob/master/files/rumour-data.tgz?raw=true\"\n",
    "    r = requests.get(url)\n",
    "\n",
    "    #Save to the current directory\n",
    "    with open(fname, 'wb') as f:\n",
    "        f.write(r.content)\n",
    "        \n",
    "print(\"Done. File downloaded:\", my_file)\n"
   ]
  },
  {
   "cell_type": "markdown",
   "metadata": {},
   "source": [
    "**Instructions**: Run the code to extract the zip file. Note: the extraction may take a minute or two. **No implementation is needed.**"
   ]
  },
  {
   "cell_type": "code",
   "execution_count": 2,
   "metadata": {},
   "outputs": [
    {
     "name": "stdout",
     "output_type": "stream",
     "text": [
      "Extraction done.\n"
     ]
    }
   ],
   "source": [
    "import tarfile\n",
    "\n",
    "#decompress rumour-data.tgz\n",
    "tar = tarfile.open(fname, \"r:gz\")\n",
    "tar.extractall()\n",
    "tar.close()\n",
    "\n",
    "#remove superfluous files (e.g. .DS_store)\n",
    "extra_files = []\n",
    "for r, d, f in os.walk(data_dir):\n",
    "    for file in f:\n",
    "        if (file.startswith(\".\")):\n",
    "            extra_files.append(os.path.join(r, file))\n",
    "for f in extra_files:\n",
    "    os.remove(f)\n",
    "\n",
    "print(\"Extraction done.\")"
   ]
  },
  {
   "cell_type": "markdown",
   "metadata": {},
   "source": [
    "### Question 1 (1.0 mark)\n",
    "\n",
    "**Instructions**: The corpus data is in the *rumour-data* folder. It contains 2 sub-folders: *non-rumours* and *rumours*. As the names suggest, *rumours* contains all rumour-propagating tweets, while *non-rumours* has normal tweets. Within  *rumours* and *non-rumours*, you'll find some sub-folders, each named with an ID. Each of these IDs constitutes an 'event', where an event is defined as consisting a **source tweet** and its **reactions**.\n",
    "\n",
    "An illustration of the folder structure is given below:\n",
    "\n",
    "    rumour-data\n",
    "        - rumours\n",
    "            - 498254340310966273\n",
    "                - reactions\n",
    "                    - 498254340310966273.json\n",
    "                    - 498260814487642112.json\n",
    "                - source-tweet\n",
    "                    - 498254340310966273.json\n",
    "        - non-rumours\n",
    "\n",
    "Now we need to gather the tweet messages for rumours and non-rumour events. As the individual tweets are stored in json format, we need to use a json parser to parse and collect the actual tweet message. The function `get_tweet_text_from_json(file_path)` is provided to do that.\n",
    "\n",
    "**Task**: Complete the `get_events(event_dir)` function. The function should return **a list of events** for a particular class of tweets (e.g. rumours), and each event should contain the source tweet message and all reaction tweet messages.\n",
    "\n",
    "**Check**: Use the assertion statements in *\"For your testing\"* below for the expected output."
   ]
  },
  {
   "cell_type": "code",
   "execution_count": 3,
   "metadata": {},
   "outputs": [
    {
     "name": "stdout",
     "output_type": "stream",
     "text": [
      "Number of rumour events = 500\n",
      "Number of non-rumour events = 1000\n"
     ]
    }
   ],
   "source": [
    "import json\n",
    "\n",
    "def get_tweet_text_from_json(file_path):\n",
    "    with open(file_path) as json_file:\n",
    "        data = json.load(json_file)\n",
    "        return data[\"text\"]\n",
    "    \n",
    "def get_events(event_dir):\n",
    "    event_list = []\n",
    "    for event in sorted(os.listdir(event_dir)):\n",
    "        ###\n",
    "        # Your answer BEGINS HERE\n",
    "        ###\n",
    "        content=''\n",
    "        for subevent in sorted(os.listdir(os.path.join(event_dir,event,\"reactions\"))):\n",
    "            content+=get_tweet_text_from_json(os.path.join(event_dir,event,\"reactions\",subevent))\n",
    "        for subevent in sorted(os.listdir(os.path.join(event_dir,event,\"source-tweet\"))):\n",
    "            content+=get_tweet_text_from_json(os.path.join(event_dir,event,\"source-tweet\",subevent))\n",
    "        event_list.append(content)\n",
    "        \n",
    "        ###\n",
    "        # Your answer ENDS HERE\n",
    "        ###\n",
    "        \n",
    "    return event_list\n",
    "    \n",
    "#a list of events, and each event is a list of tweets (source tweet + reactions)    \n",
    "rumour_events = get_events(os.path.join(data_dir, \"rumours\"))\n",
    "nonrumour_events = get_events(os.path.join(data_dir, \"non-rumours\"))\n",
    "\n",
    "print(\"Number of rumour events =\", len(rumour_events))\n",
    "print(\"Number of non-rumour events =\", len(nonrumour_events))"
   ]
  },
  {
   "cell_type": "markdown",
   "metadata": {},
   "source": [
    "**For your testing:**"
   ]
  },
  {
   "cell_type": "code",
   "execution_count": 4,
   "metadata": {},
   "outputs": [],
   "source": [
    "assert(len(rumour_events) == 500)\n",
    "assert(len(nonrumour_events) == 1000)"
   ]
  },
  {
   "cell_type": "markdown",
   "metadata": {},
   "source": [
    "### Question 2 (1.0 mark)\n",
    "\n",
    "**Instructions**: Next we need to preprocess the collected tweets to create a bag-of-words representation. The preprocessing steps required here are: (1) tokenize each tweet into individual word tokens (using NLTK `TweetTokenizer`); and (2) remove stopwords (based on NLTK `stopwords`).\n",
    "\n",
    "**Task**: Complete the `preprocess_events(event)` function. The function takes **a list of events** as input, and returns **a list of preprocessed events**. Each preprocessed event should have a dictionary of words and frequencies.\n",
    "\n",
    "**Check**: Use the assertion statements in *\"For your testing\"* below for the expected output."
   ]
  },
  {
   "cell_type": "code",
   "execution_count": 5,
   "metadata": {},
   "outputs": [
    {
     "name": "stdout",
     "output_type": "stream",
     "text": [
      "Number of preprocessed rumour events = 500\n",
      "Number of preprocessed non-rumour events = 1000\n"
     ]
    }
   ],
   "source": [
    "import nltk\n",
    "from nltk.tokenize import TweetTokenizer\n",
    "from nltk.corpus import stopwords\n",
    "from collections import defaultdict\n",
    "\n",
    "tt = TweetTokenizer()\n",
    "stopwords = set(stopwords.words('english'))\n",
    "\n",
    "def preprocess_events(events):\n",
    "    ###\n",
    "    # Your answer BEGINS HERE\n",
    "    ###\n",
    "    events_list=[]\n",
    "    for subevent in events:\n",
    "        data=tt.tokenize(subevent)\n",
    "        filtered_words = [word for word in data if word not in stopwords]\n",
    "        dictionary = defaultdict(int)\n",
    "        for word in filtered_words:\n",
    "            dictionary[word] += 1\n",
    "        events_list.append(dictionary)\n",
    "    return events_list\n",
    "\n",
    "    ###\n",
    "    # Your answer ENDS HERE\n",
    "    ###\n",
    "\n",
    "preprocessed_rumour_events = preprocess_events(rumour_events)\n",
    "preprocessed_nonrumour_events = preprocess_events(nonrumour_events)\n",
    "\n",
    "print(\"Number of preprocessed rumour events =\", len(preprocessed_rumour_events))\n",
    "print(\"Number of preprocessed non-rumour events =\", len(preprocessed_nonrumour_events))"
   ]
  },
  {
   "cell_type": "markdown",
   "metadata": {},
   "source": [
    "**For your testing**:"
   ]
  },
  {
   "cell_type": "code",
   "execution_count": 6,
   "metadata": {},
   "outputs": [],
   "source": [
    "assert(len(preprocessed_rumour_events) == 500)\n",
    "assert(len(preprocessed_nonrumour_events) == 1000)"
   ]
  },
  {
   "cell_type": "markdown",
   "metadata": {},
   "source": [
    "**Instructions**: Hashtags (i.e. topic tags which start with #) pose an interesting tokenisation problem because they often include multiple words written without spaces or capitalization. Run the code below to collect all unique hashtags in the preprocessed data. **No implementation is needed.**\n",
    "\n"
   ]
  },
  {
   "cell_type": "code",
   "execution_count": 7,
   "metadata": {},
   "outputs": [
    {
     "name": "stdout",
     "output_type": "stream",
     "text": [
      "Number of hashtags = 1938\n"
     ]
    }
   ],
   "source": [
    "def get_all_hashtags(events):\n",
    "    hashtags = set([])\n",
    "    for event in events:\n",
    "        for word, frequency in event.items():\n",
    "            if word.startswith(\"#\"):\n",
    "                hashtags.add(word)\n",
    "    return hashtags\n",
    "\n",
    "hashtags = get_all_hashtags(preprocessed_rumour_events + preprocessed_nonrumour_events)\n",
    "print(\"Number of hashtags =\", len(hashtags))"
   ]
  },
  {
   "cell_type": "markdown",
   "metadata": {},
   "source": [
    "### Question 3 (2.0 mark)\n",
    "\n",
    "**Instructions**: Our task here to tokenize the hashtags, by implementing a reversed version of the MaxMatch algorithm discussed in class, where matching begins at the end of the hashtag and progresses backwards. NLTK has a list of words that you can use for matching, see starter code below. Be careful about efficiency with respect to doing word lookups. One extra challenge you have to deal with is that the provided list of words includes only lemmas: your MaxMatch algorithm should match inflected forms by converting them into lemmas using the NLTK lemmatizer before matching. When lemmatising a word, you also need to provide the part-of-speech tag of the word. You should use `nltk.tag.pos_tag` for doing part-of-speech tagging.\n",
    "\n",
    "Note that the list of words is incomplete, and, if you are unable to make any longer match, your code should default to matching a single letter. Create a new list of tokenized hashtags (this should be a list of lists of strings) and use slicing to print out the last 20 hashtags in the list.\n",
    "\n",
    "For example, given \"#speakup\", the algorithm should produce: \\[\"#\", \"speak\", \"up\"\\]. And note that you do not need to delete the hashtag symbol (\"#\") from the tokenised outputs.\n",
    "\n",
    "**Task**: Complete the `tokenize_hashtags(hashtags)` function by implementing a reversed MaxMatch algorithm. The function takes as input **a set of hashtags**, and returns **a dictionary** where key=\"hashtag\" and value=\"a list of word tokens\".\n",
    "\n",
    "**Check**: Use the assertion statements in *\"For your testing\"* below for the expected output."
   ]
  },
  {
   "cell_type": "code",
   "execution_count": 8,
   "metadata": {},
   "outputs": [
    {
     "name": "stdout",
     "output_type": "stream",
     "text": [
      "[('#chills', ['chill', '#']), ('#kosher', ['kosher', '#']), (\"#Erdoğan's\", ['s', \"'\", 'an', 'ğ', 'do', 'Er', '#']), ('#thankyouNo-Fly', ['Fly', '-', 'No', 'you', 'thank', '#']), ('#pegida', ['da', 'i', 'peg', '#']), ('#dangerousnegroesThat', ['That', 'negro', 'dangerous', '#']), ('#Lies', ['Lies', '#']), ('#crazy', ['crazy', '#']), ('#RT', ['T', 'R', '#']), ('#Islamic', ['amic', 'l', 'Is', '#']), ('#a320', ['0', '2', '3', 'a', '#']), ('#MikeBrownDont', ['Dont', 'Brown', 'Mike', '#']), ('#FergusonMO', ['MO', 'son', 'u', 'erg', 'F', '#']), ('#MidlandsHonda', ['Honda', 'Midlands', '#']), ('#Music101', ['1', '0', '1', 'Music', '#']), ('#ftp', ['p', 't', 'f', '#']), ('#ModiSilenceMedia', ['Media', 'Silence', 'di', 'Mo', '#']), ('#Australia', ['a', 'li', 'stra', 'u', 'A', '#']), ('#heavyheart', ['heart', 'heavy', '#']), ('#WE', ['WE', '#'])]\n"
     ]
    }
   ],
   "source": [
    "from nltk.corpus import wordnet\n",
    "\n",
    "lemmatizer = nltk.stem.wordnet.WordNetLemmatizer()\n",
    "words = set(nltk.corpus.words.words()) #a list of words provided by NLTK\n",
    "\n",
    "def tokenize_hashtags(hashtags):\n",
    "    ###\n",
    "    # Your answer BEGINS HERE\n",
    "    ###\n",
    "    for word in words:\n",
    "        word=lemmatizer.lemmatize(word,get_wordnet_pos(word))\n",
    "        word=word.lower()\n",
    "    dict={}\n",
    "    for tags in hashtags:\n",
    "        list=[]\n",
    "        length = 0\n",
    "        tag=tags\n",
    "        full=len(tags)\n",
    "        while length < len(tags):         \n",
    "              word = tags[length:len(tags)]\n",
    "              lower_version = word.lower()\n",
    "              st_version=lemmatizer.lemmatize(word)\n",
    "              if length==(len(tags)- 1):\n",
    "                 list.append(word)\n",
    "                 tags=tags[0:length]\n",
    "                 length=0\n",
    "              elif (lemmatizer.lemmatize(lower_version,get_wordnet_pos(lower_version))) in words:  \n",
    "                      list.append(st_version)  \n",
    "                      tags = tags[0:length]  \n",
    "                      length = 0 \n",
    "              else:  \n",
    "                    length = length+1  \n",
    "        dict[tag]=list\n",
    "    return dict\n",
    "def get_wordnet_pos(word):\n",
    "    tag = nltk.pos_tag([word])[0][1][0].upper()\n",
    "    tag_dict = {\"J\": wordnet.ADJ,\n",
    "                \"N\": wordnet.NOUN,\n",
    "                \"V\": wordnet.VERB,\n",
    "                \"R\": wordnet.ADV}\n",
    "\n",
    "    return tag_dict.get(tag, wordnet.NOUN)\n",
    "\n",
    "        \n",
    "    ###\n",
    "    # Your answer ENDS HERE\n",
    "    ###\n",
    "\n",
    "\n",
    "tokenized_hashtags = tokenize_hashtags(hashtags)\n",
    "\n",
    "print(list(tokenized_hashtags.items())[:20])"
   ]
  },
  {
   "cell_type": "markdown",
   "metadata": {},
   "source": [
    "**For your testing:**"
   ]
  },
  {
   "cell_type": "code",
   "execution_count": 9,
   "metadata": {},
   "outputs": [],
   "source": [
    "assert(len(tokenized_hashtags) == len(hashtags))"
   ]
  },
  {
   "cell_type": "markdown",
   "metadata": {},
   "source": [
    "### Question 4 (1.0 mark)\n",
    "\n",
    "**Instructions**: Now that we have the tokenized hashtags, we need to go back and update the bag-of-words representation for each event.\n",
    "\n",
    "**Task**: Complete the ``update_event_bow(events)`` function. The function takes **a list of preprocessed events**, and for each event, it looks for every hashtag it has and updates the bag-of-words dictionary with the tokenized hashtag tokens. Note: you do not need to delete the counts of the original hashtags when updating the bag-of-words (e.g., if a document has \"#speakup\":2 in its bag-of-words representation, you do not need to delete this hashtag and its counts)."
   ]
  },
  {
   "cell_type": "code",
   "execution_count": 10,
   "metadata": {},
   "outputs": [
    {
     "name": "stdout",
     "output_type": "stream",
     "text": [
      "Number of preprocessed rumour events = 500\n",
      "Number of preprocessed non-rumour events = 1000\n"
     ]
    }
   ],
   "source": [
    "def update_event_bow(events):\n",
    "    ###\n",
    "    # Your answer BEGINS HERE\n",
    "    ###\n",
    "    for event in events:\n",
    "        hashtags = defaultdict(int)\n",
    "        for word, frequency in event.items():\n",
    "            if word.startswith(\"#\"):\n",
    "               tokenized_tag=tokenized_hashtags[word]\n",
    "               for token_word in tokenized_tag:\n",
    "                   hashtags[token_word]+=1\n",
    "        event.update(hashtags)          \n",
    "\n",
    "    ###\n",
    "    # Your answer ENDS HERE\n",
    "    ###\n",
    "         \n",
    "update_event_bow(preprocessed_rumour_events)\n",
    "update_event_bow(preprocessed_nonrumour_events)\n",
    "\n",
    "print(\"Number of preprocessed rumour events =\", len(preprocessed_rumour_events))\n",
    "print(\"Number of preprocessed non-rumour events =\", len(preprocessed_nonrumour_events))"
   ]
  },
  {
   "cell_type": "markdown",
   "metadata": {},
   "source": [
    "# Text Classification (4 marks)"
   ]
  },
  {
   "cell_type": "markdown",
   "metadata": {},
   "source": [
    "### Question 5 (1.0 mark)\n",
    "\n",
    "**Instructions**: Here we are interested to do text classification, to predict, given a tweet and its reactions, whether it is a rumour or not. The task here is to create training, development and test partitions from the preprocessed events and convert the bag-of-words representation into feature vectors.\n",
    "\n",
    "**Task**: Using scikit-learn, create training, development and test partitions with a 60%/20%/20% ratio. Remember to preserve the ratio of rumour/non-rumour events for all your partitions. Next, turn the bag-of-words dictionary of each event into a feature vector, using scikit-learn `DictVectorizer`."
   ]
  },
  {
   "cell_type": "code",
   "execution_count": 39,
   "metadata": {},
   "outputs": [
    {
     "name": "stdout",
     "output_type": "stream",
     "text": [
      "Vocabulary size = 20916\n"
     ]
    }
   ],
   "source": [
    "from sklearn.feature_extraction import DictVectorizer\n",
    "\n",
    "vectorizer = DictVectorizer()\n",
    "\n",
    "###\n",
    "# Your answer BEGINS HERE\n",
    "###\n",
    "from sklearn.model_selection import train_test_split  \n",
    "import pandas as pd\n",
    "label_rumour=[]\n",
    "label_nonrumour=[]\n",
    "for a in preprocessed_rumour_events:\n",
    "    label_rumour.append(1)\n",
    "for b in preprocessed_nonrumour_events:\n",
    "    label_nonrumour.append(0)\n",
    "train_rumour, other_rumour,train_label_rumour,other_label_rumour = train_test_split(preprocessed_rumour_events,label_rumour, test_size=0.6, random_state=0)\n",
    "develop_rumour,test_rumour,develop_label_rumour,test_label_rumour =train_test_split(other_rumour,other_label_rumour,test_size=0.5,random_state=0)\n",
    "train_nonrumour, other_nonrumour,train_label_nonrumour,other_label_nonrumour = train_test_split(preprocessed_nonrumour_events,label_nonrumour, test_size=0.6, random_state=0)\n",
    "develop_nonrumour,test_nonrumour,develop_label_nonrumour,test_label_nonrumour=train_test_split(other_nonrumour,other_label_nonrumour,test_size=0.5,random_state=0)\n",
    "all_train=train_rumour+train_nonrumour\n",
    "all_train_label=train_label_rumour+train_label_nonrumour\n",
    "all_develop =develop_rumour+develop_nonrumour\n",
    "all_develop_label=develop_label_rumour+develop_label_nonrumour\n",
    "all_test= test_rumour+test_nonrumour\n",
    "all_test_label=test_label_rumour+test_label_nonrumour\n",
    "all_data=all_train+all_develop+all_test\n",
    "all_train_vector=vectorizer.fit_transform(all_train).toarray()\n",
    "all_develop_vector=vectorizer.transform(all_develop)\n",
    "all_test_vector=vectorizer.transform(all_test)\n",
    "\n",
    "###\n",
    "# Your answer ENDS HERE\n",
    "###\n",
    "\n",
    "print(\"Vocabulary size =\", len(vectorizer.vocabulary_))"
   ]
  },
  {
   "cell_type": "markdown",
   "metadata": {},
   "source": [
    "### Question 6 (2.0 mark)\n",
    "\n",
    "**Instructions**: Now, let's build some classifiers. Here, we'll be comparing Naive Bayes and Logistic Regression. For each, you need to first find a good value for their main regularisation (hyper)parameters, which you should identify using the scikit-learn docs or other resources. Use the development set you created for this tuning process; do **not** use cross-validation in the training set, or involve the test set in any way. You don't need to show all your work, but you do need to print out the accuracy with enough different settings to strongly suggest you have found an optimal or near-optimal choice. We should not need to look at your code to interpret the output.\n",
    "\n",
    "**Task**: Implement two text classifiers: Naive Bayes and Logistic Regression. Tune the hyper-parameters of these classifiers and print the task performance for different hyper-parameter settings."
   ]
  },
  {
   "cell_type": "code",
   "execution_count": 47,
   "metadata": {
    "scrolled": true
   },
   "outputs": [
    {
     "name": "stdout",
     "output_type": "stream",
     "text": [
      "Best score:0.81\n",
      "Best parameters:{'alpha': 0.1}\n"
     ]
    },
    {
     "name": "stderr",
     "output_type": "stream",
     "text": [
      "C:\\Users\\New\\Anaconda3\\lib\\site-packages\\sklearn\\linear_model\\_logistic.py:940: ConvergenceWarning: lbfgs failed to converge (status=1):\n",
      "STOP: TOTAL NO. of ITERATIONS REACHED LIMIT.\n",
      "\n",
      "Increase the number of iterations (max_iter) or scale the data as shown in:\n",
      "    https://scikit-learn.org/stable/modules/preprocessing.html\n",
      "Please also refer to the documentation for alternative solver options:\n",
      "    https://scikit-learn.org/stable/modules/linear_model.html#logistic-regression\n",
      "  extra_warning_msg=_LOGISTIC_SOLVER_CONVERGENCE_MSG)\n",
      "C:\\Users\\New\\Anaconda3\\lib\\site-packages\\sklearn\\linear_model\\_logistic.py:940: ConvergenceWarning: lbfgs failed to converge (status=1):\n",
      "STOP: TOTAL NO. of ITERATIONS REACHED LIMIT.\n",
      "\n",
      "Increase the number of iterations (max_iter) or scale the data as shown in:\n",
      "    https://scikit-learn.org/stable/modules/preprocessing.html\n",
      "Please also refer to the documentation for alternative solver options:\n",
      "    https://scikit-learn.org/stable/modules/linear_model.html#logistic-regression\n",
      "  extra_warning_msg=_LOGISTIC_SOLVER_CONVERGENCE_MSG)\n"
     ]
    },
    {
     "name": "stdout",
     "output_type": "stream",
     "text": [
      "Best score:0.79\n",
      "Best parameters:{'C': 0.165}\n"
     ]
    },
    {
     "name": "stderr",
     "output_type": "stream",
     "text": [
      "C:\\Users\\New\\Anaconda3\\lib\\site-packages\\sklearn\\linear_model\\_logistic.py:940: ConvergenceWarning: lbfgs failed to converge (status=1):\n",
      "STOP: TOTAL NO. of ITERATIONS REACHED LIMIT.\n",
      "\n",
      "Increase the number of iterations (max_iter) or scale the data as shown in:\n",
      "    https://scikit-learn.org/stable/modules/preprocessing.html\n",
      "Please also refer to the documentation for alternative solver options:\n",
      "    https://scikit-learn.org/stable/modules/linear_model.html#logistic-regression\n",
      "  extra_warning_msg=_LOGISTIC_SOLVER_CONVERGENCE_MSG)\n"
     ]
    }
   ],
   "source": [
    "from sklearn.naive_bayes import MultinomialNB\n",
    "from sklearn.linear_model import LogisticRegression\n",
    "\n",
    "###\n",
    "# Your answer BEGINS HERE\n",
    "###\n",
    "from sklearn.pipeline import Pipeline\n",
    "#nb\n",
    "\n",
    "nb_model = MultinomialNB()\n",
    "clf = Pipeline([('nb', nb_model)])\n",
    "\n",
    "####   grid search start\n",
    "best_score = 0\n",
    "train_y = np.array(all_train_label)\n",
    "develop_y=np.array(all_develop_label)\n",
    "for nb_alpha in [0.001,0.005,0.008,0.009,0.01,0.011,0.012,0.02,0.1,1,2,10,100]:\n",
    "        model = MultinomialNB(alpha=nb_alpha)\n",
    "        model.fit(all_train_vector,train_y)\n",
    "        score = model.score(all_develop_vector,develop_y)\n",
    "        if score > best_score:\n",
    "            best_score = score\n",
    "            best_parameters = {'alpha':nb_alpha}\n",
    "####   grid search end\n",
    "print(\"Best score:{:.2f}\".format(best_score))\n",
    "print(\"Best parameters:{}\".format(best_parameters))\n",
    "\n",
    "#for LogisticRegression\n",
    "lr_model = LogisticRegression(solver='lbfgs',multi_class='multinomial')\n",
    "clf = Pipeline([('lr', lr_model)])\n",
    "\n",
    "best_score2 = 0.0\n",
    "for lr_c in [0.001,0.01,0.1,0.15,0.16,0.164,0.165,0.166,0.17,0.175,0.18,0.2,0.225,0.25,0.3,0.4,0.5,0.6,0.75,1,1.25,1.5,10,100]:\n",
    "        model2 = LogisticRegression(solver='lbfgs',multi_class='multinomial',C=lr_c)\n",
    "        model2.fit(all_train_vector,train_y)\n",
    "        score2 = model2.score(all_develop_vector,develop_y)\n",
    "        if score2 > best_score2:\n",
    "            best_score2 = score2\n",
    "            best_parameters2 = {'C':lr_c}\n",
    "\n",
    "print(\"Best score:{:.2f}\".format(best_score2))\n",
    "print(\"Best parameters:{}\".format(best_parameters2))\n",
    "\n",
    "###\n",
    "# Your answer ENDS HERE\n",
    "###"
   ]
  },
  {
   "cell_type": "markdown",
   "metadata": {},
   "source": [
    "Using best sceore and parameters to store\n",
    "after testing [0.001,0.005,0.008,0.009,0.01,0.011,0.012,0.02,0.1,1,2,10,100]\n",
    "Best score:0.81\n",
    "Best parameters of NB:{'alpha': 0.1}\n",
    "after testing [0.001,0.01,0.1,0.15,0.16,0.164,0.165,0.166,0.17,0.175,0.18,0.2,0.225,0.25,0.3,0.4,0.5,0.6,0.75,1,1.25,1.5,10,100]\n",
    "Best score:0.79\n",
    "Best parameters of LogisticRegression:{'C': 0.165}"
   ]
  },
  {
   "cell_type": "markdown",
   "metadata": {},
   "source": [
    "### Question 7 (1.0 mark)\n",
    "\n",
    "**Instructions**: Using the best settings you have found, compare the two classifiers based on performance in the test set. Print out both accuracy and macro-averaged F-score for each classifier. Be sure to label your output.\n",
    "\n",
    "**Task**: Compute test performance in terms of accuracy and macro-averaged F-score for both Naive Bayes and Logistic Regression, using optimal hyper-parameter settings."
   ]
  },
  {
   "cell_type": "code",
   "execution_count": 53,
   "metadata": {},
   "outputs": [
    {
     "name": "stdout",
     "output_type": "stream",
     "text": [
      "accuracy:0.80 of nb\n",
      "accuracy:0.79 of lr\n",
      "f-score: 0.80 of nb\n",
      "f-score: 0.78 of lr\n"
     ]
    }
   ],
   "source": [
    "###\n",
    "# Your answer BEGINS HERE\n",
    "###\n",
    "from sklearn import metrics\n",
    "\n",
    "test_y = np.array(all_test_label)\n",
    "\n",
    "model = MultinomialNB(**best_parameters)\n",
    "model.fit(all_train_vector,train_y)\n",
    "predict_y_nb = model.predict(all_test_vector)\n",
    "\n",
    "model2 = LogisticRegression(**best_parameters2)\n",
    "model2.fit(all_train_vector,train_y)\n",
    "predict_y_lr = model2.predict(all_test_vector)\n",
    "\n",
    "score1=metrics.precision_score(test_y, predict_y_nb, average='micro')\n",
    "score2=metrics.precision_score(test_y, predict_y_lr, average='micro')\n",
    "fscore1=metrics.f1_score(test_y, predict_y_nb, average='weighted')\n",
    "fscore2=metrics.f1_score(test_y, predict_y_lr, average='weighted')\n",
    "\n",
    "print(\"accuracy:{:.2f} of nb\".format(score1))\n",
    "print(\"accuracy:{:.2f} of lr\".format(score2))\n",
    "print(\"f-score: {:.2f} of nb\".format(fscore1))\n",
    "print(\"f-score: {:.2f} of lr\".format(fscore2))\n",
    "\n",
    "###\n",
    "# Your answer ENDS HERE\n",
    "###"
   ]
  },
  {
   "cell_type": "code",
   "execution_count": null,
   "metadata": {},
   "outputs": [],
   "source": []
  }
 ],
 "metadata": {
  "kernelspec": {
   "display_name": "Python 3",
   "language": "python",
   "name": "python3"
  },
  "language_info": {
   "codemirror_mode": {
    "name": "ipython",
    "version": 3
   },
   "file_extension": ".py",
   "mimetype": "text/x-python",
   "name": "python",
   "nbconvert_exporter": "python",
   "pygments_lexer": "ipython3",
   "version": "3.7.3"
  }
 },
 "nbformat": 4,
 "nbformat_minor": 2
}
